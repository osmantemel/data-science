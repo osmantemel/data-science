{
 "cells": [
  {
   "cell_type": "code",
   "execution_count": 4,
   "metadata": {},
   "outputs": [],
   "source": [
    "import tensorflow as tf\n",
    "import numpy as np\n",
    "import pandas as pd\n",
    "import matplotlib.pyplot as plt"
   ]
  },
  {
   "cell_type": "markdown",
   "metadata": {},
   "source": [
    "### **Yapay Sinir Ağları (Artifical Neurel Network (ANN)):**\n",
    "\n",
    "* **perceptron** (Yapay Nöron)\n",
    "\n",
    "* **Nöron**: en küçük yapı birmi bilgiyi öğrenmeye çalışır girdileri çıktıları olur\n",
    "\n",
    "* **Classification** : Sınıflandırma, gözetimli öğrenme görevlerinden biridir ve amacı girdi verilerini önceden tanımlanmış sınıflara veya kategorilere ayırmaktır.\n",
    "\n",
    "* **Regression**: Regresyon, bir başka gözetimli öğrenme görevidir ve amacı girdi verilerine dayalı olarak sürekli bir çıktı veya değeri tahmin etmektir.\n",
    "\n",
    "* **Bias** : Makine öğrenimi ve sinir ağları bağlamında, \"bias\" genellikle bir modelin öğrenme sürecindeki eğilimini ifade eder. Modelin öğrenme yeteneğini etkileyen sistematik hataları temsil edebilir. (sabit olarak verilir)\n",
    "\n",
    "> Gizli katman 1 olursa normal network 1 den fazla olursa deep networkdür\n"
   ]
  },
  {
   "cell_type": "markdown",
   "metadata": {},
   "source": [
    "### **Aktivasyon Fonksiyonları**\n",
    "\n",
    "* Normal bildiğimiz matematik fonksiyonlarıdır en çok kullanılanlar örnek:\n",
    "\n",
    "    * **Sigmoid fonk :** \n",
    "        * 0 ile 1 arası değer alır / genelde sınıflandırma problemlerinde işe yarar\n",
    "\n",
    "    * **Tanh fonksiyonu:**\n",
    "        * -1 ile 1 arası değer alır / negatif değerlerle daha geniş bir kapsam sağlar ve genelde sınıflandırma problemlerinde kullanılır\n",
    "    * **ReLu fonksiyonu:**\n",
    "        * 0 ile sonsuz arası değer alır /derin öğrnemede en çok kullanılan fonsiyondur\n",
    "    * **Lİnear fonksiyonu:**\n",
    "        * f(x)=x / sonsuz değer alabilir fakat non-linear olmaması sebebiyle modellerde sorunlara yol açabilir\n",
    "> wikipedia dan diğer aktivasyon fonksiyonlarına bakabilirsin "
   ]
  },
  {
   "cell_type": "markdown",
   "metadata": {},
   "source": [
    "### **Resgresyon**\n",
    "\n",
    "* Çocukların boyları ile bablarının boyları arasında bir ilişki olabilirmi \n",
    "* Çocukların boyları toplamı veri setindeki ortalamaya yakın olma eğilimi gösterebilir\n",
    "* Y=a*x + b\n",
    "    * Y: çıkış ,  x: girdiler , a: ağırlık ,b: bias \n",
    "    * Bu denklemi oluşturan ise nöronlar \n",
    "    * Bütün bu işleri yapan ise Tensorflow dur \n",
    "* ve bu bir regesyon örneğidir yani tahmin"
   ]
  },
  {
   "cell_type": "markdown",
   "metadata": {},
   "source": [
    "## **Maliyet Fonksiyonu**\n",
    "> Öğrenmede bize yardımcı olur ve gerçekten ne kadar uzaktayız ölçer\n",
    "\n",
    "* z=a*g+b\n",
    "\n",
    "f(z) = tahmini değer (Nöron Tahmini)\n",
    "* Quadratic Maliyet = sum(gercekDeger - tahminiDeger) ** 2 / n\n",
    "* Cross Entropy Maliyet = (-1/n) * sum (gercekDeger * In(tahminiDeger) + (1- gercekDeger)*In(1- tahminiDeger))"
   ]
  },
  {
   "cell_type": "markdown",
   "metadata": {},
   "source": [
    "### **Gradient Descent(Dereceli alçalma)**\n",
    "\n",
    "* u şeklinde bir fonk düşün ve bunun minumumunu bulmaya çalışıyoruz\n",
    "\n",
    "* Bir fonksiyonun Minumunu bulmak için kullancığımız optimizasyon fonksiyonu \n",
    "* Maliyet Fonksiyonunu minimize etmek için kullanabiliriz\n",
    "* Aşşağı inerken ne kadra hızlı veya yavaş inebileceğimizi seçebiliriz (step size). Bu aslında öğrneme seviyemizle aynı anlama gelir Minumuma hızlı ulaşmak için optimizasyonlar kullanabiliriz \n",
    "> * Populer optimizasyonlar : RMSProp , Adam"
   ]
  },
  {
   "cell_type": "markdown",
   "metadata": {},
   "source": [
    "* **Noise:**  Verilerin Karmaşılığı genel olarak bir sinyaldeki istenmeyen veya rastgele bozucu unsurları ifade eder. \n",
    "\n",
    "* **Batch Size :** Örneğin, diyelim ki bir eğitim veri setinizde 1000 örnek var ve batch size'ınızı 50 olarak ayarlıyorsunuz. Bu durumda, her bir eğitim iterasyonunda modeliniz 50 örnek üzerinden eğitilecek ve toplamda 20 iterasyon sonunda tüm eğitim veri setini kullanmış olacaksınız.\n"
   ]
  }
 ],
 "metadata": {
  "kernelspec": {
   "display_name": "Python 3",
   "language": "python",
   "name": "python3"
  },
  "language_info": {
   "codemirror_mode": {
    "name": "ipython",
    "version": 3
   },
   "file_extension": ".py",
   "mimetype": "text/x-python",
   "name": "python",
   "nbconvert_exporter": "python",
   "pygments_lexer": "ipython3",
   "version": "3.10.12"
  }
 },
 "nbformat": 4,
 "nbformat_minor": 2
}
